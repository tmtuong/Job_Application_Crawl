{
 "cells": [
  {
   "cell_type": "code",
   "execution_count": 145,
   "metadata": {},
   "outputs": [],
   "source": [
    "import requests\n",
    "from datetime import datetime as dt\n",
    "import pandas as pd\n",
    "from dateutil import relativedelta\n",
    "import sys\n",
    "import os\n",
    "import pygsheets\n",
    "from selenium import webdriver\n",
    "from selenium.webdriver.common.keys import Keys\n",
    "from selenium.webdriver.common.by import By\n",
    "from selenium.webdriver.chrome.options import Options\n",
    "import pygsheets\n",
    "import time\n",
    "from bs4 import BeautifulSoup\n",
    "import glob\n",
    "import json"
   ]
  },
  {
   "cell_type": "code",
   "execution_count": 146,
   "metadata": {},
   "outputs": [
    {
     "name": "stdout",
     "output_type": "stream",
     "text": [
      "Get old data\n"
     ]
    }
   ],
   "source": [
    "client = pygsheets.authorize(service_file = \"C:/Users/Tường/Desktop/refined-grammar-372209-b3fbc4b10ebf.json\")\n",
    "sh = client.open('Recruitment')\n",
    "wks = sh.worksheet_by_title('CB Data')\n",
    "recruitment_data = wks.get_as_df()\n",
    "print('Get old data')"
   ]
  },
  {
   "cell_type": "code",
   "execution_count": 147,
   "metadata": {},
   "outputs": [],
   "source": [
    "options = Options()\n",
    "options.add_experimental_option('prefs', {\n",
    "\"download.default_directory\": r\"C:\\Users\\Tường\\Desktop\\glints\\cv\", #Change default directory for downloads\n",
    "\"download.prompt_for_download\": False, #To auto download the file\n",
    "\"download.directory_upgrade\": True,\n",
    "\"plugins.always_open_pdf_externally\": True #It will not show PDF directly in chrome\n",
    "})\n",
    "driver = webdriver.Chrome(options = options)\n",
    "driver.get('https://careerbuilder.vn/vi/employers/hrcentral/manageresume')"
   ]
  },
  {
   "cell_type": "code",
   "execution_count": 148,
   "metadata": {},
   "outputs": [
    {
     "name": "stdout",
     "output_type": "stream",
     "text": [
      "Login\n"
     ]
    }
   ],
   "source": [
    "f = open('data.json')\n",
    "\n",
    "data = json.load(f)\n",
    "\n",
    "username = data['username']\n",
    "password = data['password']\n",
    "\n",
    "user_field = driver.find_element(By.XPATH, '//*[@id=\"frmLogin\"]/div[1]/div[2]/input')\n",
    "user_field.send_keys(username)\n",
    "time.sleep(5)\n",
    "\n",
    "pass_field = driver.find_element(By.XPATH, '//*[@id=\"frmLogin\"]/div[2]/div[2]/input')\n",
    "pass_field.send_keys(password)\n",
    "time.sleep(5)\n",
    "\n",
    "login_field = driver.find_element(By.XPATH, '//*[@id=\"frmLogin\"]/div[3]/div/button')\n",
    "login_field.click()\n",
    "time.sleep(5)\n",
    "print('Login')"
   ]
  },
  {
   "cell_type": "code",
   "execution_count": 149,
   "metadata": {},
   "outputs": [],
   "source": [
    "job_link = []\n",
    "\n",
    "for i in range(2,100):\n",
    "    try:\n",
    "        job_input = driver.find_element(By.XPATH,'//*[@id=\"select-folder\"]')\n",
    "        job_input.click()\n",
    "        job =  driver.find_element(By.XPATH, f'//*[@id=\"select-folder\"]/option[{i}]')\n",
    "        job.click()\n",
    "        url = driver.current_url\n",
    "        index = str(url).find('/*/0/0/*/*/7/2/6/2/0/desc/hr.1661228713/1')\n",
    "        id = str(url)[index-8:index]\n",
    "        link = r'https://careerbuilder.vn/vi/employers/hrcentral/manageresume/1/' + id +r'/*/0/0/03-02-2023/*/7/2/6/2/0/desc/hr.1661228713/1'\n",
    "        job_link.append(link)\n",
    "    except:\n",
    "        job_input = driver.find_element(By.XPATH,'//*[@id=\"select-folder\"]')\n",
    "        job_input.click()\n",
    "        job =  driver.find_element(By.XPATH, f'//*[@id=\"select-folder\"]/option[1]')\n",
    "        job.click()\n",
    "        url = driver.current_url\n",
    "        index = str(url).find('/*/0/0/*/*/7/2/6/2/0/desc/hr.1661228713/1')\n",
    "        id = str(url)[index-8:index]\n",
    "        link = r'https://careerbuilder.vn/vi/employers/hrcentral/manageresume/1/' + id +r'/*/0/0/03-02-2023/*/7/2/6/2/0/desc/hr.1661228713/1'\n",
    "        job_link.append(link)\n",
    "        break\n",
    "\n"
   ]
  },
  {
   "cell_type": "code",
   "execution_count": 150,
   "metadata": {},
   "outputs": [
    {
     "data": {
      "text/plain": [
       "['https://careerbuilder.vn/vi/employers/hrcentral/manageresume/1/35C042C7/*/0/0/03-02-2023/*/7/2/6/2/0/desc/hr.1661228713/1',\n",
       " 'https://careerbuilder.vn/vi/employers/hrcentral/manageresume/1/35C03E55/*/0/0/03-02-2023/*/7/2/6/2/0/desc/hr.1661228713/1',\n",
       " 'https://careerbuilder.vn/vi/employers/hrcentral/manageresume/1/35C03ED5/*/0/0/03-02-2023/*/7/2/6/2/0/desc/hr.1661228713/1',\n",
       " 'https://careerbuilder.vn/vi/employers/hrcentral/manageresume/1/35C042B0/*/0/0/03-02-2023/*/7/2/6/2/0/desc/hr.1661228713/1']"
      ]
     },
     "execution_count": 150,
     "metadata": {},
     "output_type": "execute_result"
    }
   ],
   "source": [
    "job_link"
   ]
  },
  {
   "cell_type": "code",
   "execution_count": 151,
   "metadata": {},
   "outputs": [
    {
     "name": "stdout",
     "output_type": "stream",
     "text": [
      "Get candidate url: 4\n"
     ]
    }
   ],
   "source": [
    "candidate_url = []\n",
    "\n",
    "for id in job_link:\n",
    "\n",
    "    driver.get(link)\n",
    "\n",
    "    page_navi = driver.find_element(By.XPATH, f'//*[@id=\"tab-1\"]/div/div[2]/div[2]/div/p').text\n",
    "    if page_navi != \"\":\n",
    "        no_candidate = int(page_navi.split(' ')[6])\n",
    "\n",
    " \n",
    "        if no_candidate % 20 == 0:\n",
    "            no_page = no_candidate//20\n",
    "        else:\n",
    "            no_page = (no_candidate//20) + 1\n",
    "\n",
    "    \n",
    "        page_lst = [i for i in range(1,no_page +1)]\n",
    "        if len(page_lst) >1:\n",
    "            for page in page_lst:\n",
    "                page = driver.find_element(By.XPATH,f'//*[@id=\"tab-1\"]/div/div[3]/div[2]/div/ul/li[{page}]/a')\n",
    "                page.click()\n",
    "                pagesource = BeautifulSoup(driver.page_source)\n",
    "                candidate = pagesource.find_all('a',class_ = 'name')\n",
    "                for i in candidate:\n",
    "                    up_index = str(i).find('href=\"') + 6\n",
    "                    low_index = str(i).find('\" target=')\n",
    "                    candidate_url.append(str(i)[up_index:low_index])\n",
    "        else:\n",
    "            pagesource = BeautifulSoup(driver.page_source)\n",
    "            candidate = pagesource.find_all('a',class_ = 'name')\n",
    "            for i in candidate:\n",
    "                up_index = str(i).find('href=\"') + 6\n",
    "                low_index = str(i).find('\" target=')\n",
    "                candidate_url.append(str(i)[up_index:low_index])\n",
    "print('Get candidate url:', len(candidate_url))"
   ]
  },
  {
   "cell_type": "code",
   "execution_count": 152,
   "metadata": {},
   "outputs": [
    {
     "data": {
      "text/plain": [
       "['https://careerbuilder.vn/vi/employers/hrcentral/manage_resumes/resumes_detail/1/35C042B0/35C042B0/374C05A6/374C05A6/36BB3813/35E13FE3/hr.1661228713/36BB3813/35E13FE3',\n",
       " 'https://careerbuilder.vn/vi/employers/hrcentral/manage_resumes/resumes_detail/1/35C042B0/35C042B0/374C05A6/374C05A6/36BB3813/35E13FE3/hr.1661228713/36BB3813/35E13FE3',\n",
       " 'https://careerbuilder.vn/vi/employers/hrcentral/manage_resumes/resumes_detail/1/35C042B0/35C042B0/374C05A6/374C05A6/36BB3813/35E13FE3/hr.1661228713/36BB3813/35E13FE3',\n",
       " 'https://careerbuilder.vn/vi/employers/hrcentral/manage_resumes/resumes_detail/1/35C042B0/35C042B0/374C05A6/374C05A6/36BB3813/35E13FE3/hr.1661228713/36BB3813/35E13FE3']"
      ]
     },
     "execution_count": 152,
     "metadata": {},
     "output_type": "execute_result"
    }
   ],
   "source": [
    "candidate_url"
   ]
  },
  {
   "cell_type": "code",
   "execution_count": 153,
   "metadata": {},
   "outputs": [
    {
     "name": "stdout",
     "output_type": "stream",
     "text": [
      "New candidate: 4\n"
     ]
    }
   ],
   "source": [
    "old_values = recruitment_data['id'].values\n",
    "new_candidate = []\n",
    "for i in candidate_url:\n",
    "    if i[-17:-9] not in old_values:\n",
    "        new_candidate.append(i)\n",
    "print('New candidate start from 2023-02-03:', len(new_candidate))"
   ]
  },
  {
   "cell_type": "code",
   "execution_count": 154,
   "metadata": {},
   "outputs": [],
   "source": [
    "s1 = u'ÀÁÂÃÈÉÊÌÍÒÓÔÕÙÚÝàáâãèéêìíòóôõùúýĂăĐđĨĩŨũƠơƯưẠạẢảẤấẦầẨẩẪẫẬậẮắẰằẲẳẴẵẶặẸẹẺẻẼẽẾếỀềỂểỄễỆệỈỉỊịỌọỎỏỐốỒồỔổỖỗỘộỚớỜờỞởỠỡỢợỤụỦủỨứỪừỬửỮữỰựỲỳỴỵỶỷỸỹ'\n",
    "s0 = u'AAAAEEEIIOOOOUUYaaaaeeeiioooouuyAaDdIiUuOoUuAaAaAaAaAaAaAaAaAaAaAaAaEeEeEeEeEeEeEeEeIiIiOoOoOoOoOoOoOoOoOoOoOoOoUuUuUuUuUuUuUuYyYyYyYy'\n",
    "def remove_accents(input_str):\n",
    "\ts = ''\n",
    "\tfor c in input_str:\n",
    "\t\tif c in s1:\n",
    "\t\t\ts += s0[s1.index(c)]\n",
    "\t\telse:\n",
    "\t\t\ts += c\n",
    "\treturn s"
   ]
  },
  {
   "cell_type": "code",
   "execution_count": 155,
   "metadata": {},
   "outputs": [
    {
     "name": "stdout",
     "output_type": "stream",
     "text": [
      "Get data\n"
     ]
    }
   ],
   "source": [
    "position = []\n",
    "name = []\n",
    "mail = []\n",
    "phone_number = []\n",
    "company = []\n",
    "id = []\n",
    "year = []\n",
    "month = []\n",
    "date = []\n",
    "\n",
    "for candidate in new_candidate:\n",
    "    driver.get(candidate)\n",
    "\n",
    "    candidate_position = driver.find_element(By.XPATH, '//*[@id=\"tab-1\"]/div/div/div/div[1]/nav/ol/li[2]').text\n",
    "    position.append(candidate_position)\n",
    "    if candidate_position.lower() == 'accountant' or candidate_position.lower() == 'customer service associate':\n",
    "        company.append('Genkin')\n",
    "    else:\n",
    "        company.append('Maido')\n",
    "\n",
    "    candidate_name = driver.find_element(By.XPATH, '//*[@id=\"tab-1\"]/div/div/div/div[4]/div[1]/div/div[2]/div[1]/div[1]/div[1]/ul/li[1]/p[2]').text\n",
    "    name.append(candidate_name)\n",
    "\n",
    "    apply_date = driver.find_element(By.XPATH, '//*[@id=\"tab-1\"]/div/div/div/div[3]/ul/li[3]/p[2]').text\n",
    "    date.append(apply_date)\n",
    "    month.append(apply_date.split('-')[1])\n",
    "    year.append(apply_date.split('-')[2])\n",
    "\n",
    "    if driver.find_element(By.XPATH, '//*[@id=\"tab-1\"]/div/div/div/div[4]/div[1]/div/div[2]/div[1]/div[2]/div/ul/li[1]/p[1]/strong').text.strip() == \"ĐTDĐ :\":\n",
    "        phone_number.append(driver.find_element(By.XPATH, '//*[@id=\"tab-1\"]/div/div/div/div[4]/div[1]/div/div[2]/div[1]/div[2]/div/ul/li[1]/p[2]').text)\n",
    "        mail.append(driver.find_element(By.XPATH, '//*[@id=\"tab-1\"]/div/div/div/div[4]/div[1]/div/div[2]/div[1]/div[2]/div/ul/li[2]/p[2]').text)\n",
    "    else:\n",
    "        phone_number.append(\"\")\n",
    "        mail.append(driver.find_element(By.XPATH, '//*[@id=\"tab-1\"]/div/div/div/div[4]/div[1]/div/div[2]/div[1]/div[2]/div/ul/li/p[2]').text)\n",
    "\n",
    "    candidate_id = candidate[-17:-9]\n",
    "    id.append(candidate_id)\n",
    "print('Get data')"
   ]
  },
  {
   "cell_type": "code",
   "execution_count": 156,
   "metadata": {},
   "outputs": [],
   "source": [
    "df =pd.DataFrame({'date':date,\n",
    "                  'month':month,\n",
    "                  'year':year,\n",
    "                  'company': company,\n",
    "                  'name':name,\n",
    "                  'mail':mail,\n",
    "                  'phone_number':phone_number,\n",
    "                  'position':position,\n",
    "                  'id':id\n",
    "                 }, columns = ['id','date','month','year','company','name','mail','phone_number','position'])"
   ]
  },
  {
   "cell_type": "code",
   "execution_count": 157,
   "metadata": {},
   "outputs": [
    {
     "name": "stdout",
     "output_type": "stream",
     "text": [
      "CV downloaded\n"
     ]
    }
   ],
   "source": [
    "\n",
    "output_dir = 'C:/Users/Tường/Desktop/glints/cv'\n",
    "\n",
    "for i in range(0,len(df)):\n",
    "\n",
    "    candidate_name = df.iloc[i]['name']\n",
    "    candidate_id = df.iloc[i]['id']\n",
    "    candidate_position = df.iloc[i]['position']\n",
    "    apply_date = df.iloc[i]['date']\n",
    "    \n",
    "    download_url = f'https://careerbuilder.vn/vi/employers/popup/downloadresume?resume_id={candidate_id}'\n",
    "    driver.get(download_url)\n",
    "\n",
    "print('CV downloaded')"
   ]
  },
  {
   "cell_type": "code",
   "execution_count": 158,
   "metadata": {},
   "outputs": [],
   "source": [
    "new_name = ['_'.join(position.split(' ')) +\"(\"+date+')' for position,date in zip(df['position'],df['date'])]\n",
    "id = df['id'].values\n",
    "\n",
    "rename = {}\n",
    "\n",
    "for i in range(0,len(df)):\n",
    "    rename[id[i]] = new_name[i]\n"
   ]
  },
  {
   "cell_type": "code",
   "execution_count": 160,
   "metadata": {},
   "outputs": [
    {
     "name": "stdout",
     "output_type": "stream",
     "text": [
      "1 downloaded files have renamed\n"
     ]
    }
   ],
   "source": [
    "upload_file_list = []\n",
    "file_name_dict = {}\n",
    "list_of_files = glob.glob('C:/Users/Tường/Desktop/glints/cv/*.pdf')\n",
    "for i in list_of_files:\n",
    "    index = str(i)[-12:-4]\n",
    "    if index in rename.keys():\n",
    "        new_name = str(i).replace(index,rename[index]).replace('.pdf','')\n",
    "        if(not os.path.exists(new_name)):    \n",
    "            os.rename(i,new_name)\n",
    "        file_name = os.path.basename(new_name)\n",
    "        file_name_dict[index] = file_name\n",
    "        upload_file_list.append(new_name)\n",
    "print(f'{len(upload_file_list)} downloaded files have renamed')"
   ]
  },
  {
   "cell_type": "code",
   "execution_count": 161,
   "metadata": {},
   "outputs": [
    {
     "name": "stdout",
     "output_type": "stream",
     "text": [
      "Authorization done\n",
      "1 files uploaded\n"
     ]
    }
   ],
   "source": [
    "from pydrive.auth import GoogleAuth\n",
    "from pydrive.drive import GoogleDrive\n",
    "gauth = GoogleAuth()    \n",
    "gauth.LocalWebserverAuth()\n",
    "drive = GoogleDrive(gauth)\n",
    "print('Authorization done')\n",
    "targetDirID = '1-ORa9e9s1XY_NE8SOwXQLJ0fXekysd9F'\n",
    " \n",
    "exist_file_list = drive.ListFile({'q': \"'{}' in parents and trashed=false\".format(targetDirID)}).GetList()\n",
    "\n",
    "for upload_file in upload_file_list:\n",
    "\tif(not os.path.exists(upload_file)):\n",
    "\t\tcontinue\n",
    "\t\t\n",
    "\tfileName = os.path.basename(upload_file)\n",
    "\tfor file1 in exist_file_list:\n",
    "\t\tif file1['title'] == fileName:\n",
    "\t\t\tfile1.Delete()\n",
    "\t\t\n",
    "\tgfile = drive.CreateFile({'parents': [{'id': targetDirID}], 'title': fileName})\n",
    "\t# Read file and set it as the content of this instance.\n",
    "\tgfile.SetContentFile(upload_file)\n",
    "\tgfile.Upload() # Upload the file.\n",
    "print(f'{len(upload_file_list)} files uploaded')"
   ]
  },
  {
   "cell_type": "code",
   "execution_count": 162,
   "metadata": {},
   "outputs": [],
   "source": [
    "name_lst = []\n",
    "cv_link = []\n",
    "files = drive.ListFile({\"q\": \"'\" + targetDirID + \"' in parents and mimeType!='application/vnd.google-apps.folder'\"}).GetList()\n",
    "for file in files:\n",
    "    keys = file.keys()\n",
    "    if file['shared'] and 'alternateLink' in keys:\n",
    "        link = file['alternateLink']\n",
    "    else:\n",
    "        link = 'No Link Available. Check your sharing settings.'\n",
    "    name = file['title']\n",
    "    name_lst.append(name)\n",
    "    cv_link.append(link)\n",
    "    \n",
    "cv_df = pd.DataFrame({'file_name':name_lst,'cv':cv_link}, columns=['file_name','cv'])\n",
    "cv_df.drop_duplicates(subset='file_name', keep=\"last\",inplace = True)"
   ]
  },
  {
   "cell_type": "code",
   "execution_count": 163,
   "metadata": {},
   "outputs": [
    {
     "data": {
      "text/html": [
       "<div>\n",
       "<style scoped>\n",
       "    .dataframe tbody tr th:only-of-type {\n",
       "        vertical-align: middle;\n",
       "    }\n",
       "\n",
       "    .dataframe tbody tr th {\n",
       "        vertical-align: top;\n",
       "    }\n",
       "\n",
       "    .dataframe thead th {\n",
       "        text-align: right;\n",
       "    }\n",
       "</style>\n",
       "<table border=\"1\" class=\"dataframe\">\n",
       "  <thead>\n",
       "    <tr style=\"text-align: right;\">\n",
       "      <th></th>\n",
       "      <th>file_name</th>\n",
       "      <th>cv</th>\n",
       "    </tr>\n",
       "  </thead>\n",
       "  <tbody>\n",
       "    <tr>\n",
       "      <th>0</th>\n",
       "      <td>Nguyen_Hoang_Ngoc_CUSTOMER_SERVICE_ASSOCIATE(0...</td>\n",
       "      <td>https://drive.google.com/file/d/16btuq69P-tAFj...</td>\n",
       "    </tr>\n",
       "    <tr>\n",
       "      <th>1</th>\n",
       "      <td>Tinh_Tinh_Junior_Graphic_Designer(03-02-2023)</td>\n",
       "      <td>https://drive.google.com/file/d/1-I4rk91Di6OR5...</td>\n",
       "    </tr>\n",
       "    <tr>\n",
       "      <th>2</th>\n",
       "      <td>nguyen_hoang_Junior_Graphic_Designer(03-02-2023)</td>\n",
       "      <td>https://drive.google.com/file/d/1JnJuOVp8GDFSf...</td>\n",
       "    </tr>\n",
       "    <tr>\n",
       "      <th>3</th>\n",
       "      <td>Ly_Huynh_To_Nhu_Junior_Account_Executive(03-02...</td>\n",
       "      <td>https://drive.google.com/file/d/1lELLKvdNVMNx0...</td>\n",
       "    </tr>\n",
       "    <tr>\n",
       "      <th>4</th>\n",
       "      <td>Nguyen_Hanh_Phuong_Duy_CUSTOMER_SERVICE_ASSOCI...</td>\n",
       "      <td>https://drive.google.com/file/d/1-kxRoNV7pOE7Z...</td>\n",
       "    </tr>\n",
       "    <tr>\n",
       "      <th>...</th>\n",
       "      <td>...</td>\n",
       "      <td>...</td>\n",
       "    </tr>\n",
       "    <tr>\n",
       "      <th>80</th>\n",
       "      <td>Bui_Thi_Ngoc_Anh_CUSTOMER_SERVICE_ASSOCIATE(04...</td>\n",
       "      <td>https://drive.google.com/file/d/1bn6Pz4sJ339lR...</td>\n",
       "    </tr>\n",
       "    <tr>\n",
       "      <th>81</th>\n",
       "      <td>Bui_Eric_Junior_Account_Executive(05-01-2023)</td>\n",
       "      <td>https://drive.google.com/file/d/1zzaQdAwrt5p1n...</td>\n",
       "    </tr>\n",
       "    <tr>\n",
       "      <th>82</th>\n",
       "      <td>Au_Ngan_CUSTOMER_SERVICE_ASSOCIATE(10-01-2023)</td>\n",
       "      <td>https://drive.google.com/file/d/1jcHI-p6xtyVB7...</td>\n",
       "    </tr>\n",
       "    <tr>\n",
       "      <th>83</th>\n",
       "      <td>Au_Le_Phoi__San_CUSTOMER_SERVICE_ASSOCIATE(22-...</td>\n",
       "      <td>https://drive.google.com/file/d/1_mufsnlpGoV4Z...</td>\n",
       "    </tr>\n",
       "    <tr>\n",
       "      <th>84</th>\n",
       "      <td>An_Nguyen_CUSTOMER_SERVICE_ASSOCIATE(09-01-2023)</td>\n",
       "      <td>https://drive.google.com/file/d/1GMwM7h6uA5wId...</td>\n",
       "    </tr>\n",
       "  </tbody>\n",
       "</table>\n",
       "<p>85 rows × 2 columns</p>\n",
       "</div>"
      ],
      "text/plain": [
       "                                            file_name  \\\n",
       "0   Nguyen_Hoang_Ngoc_CUSTOMER_SERVICE_ASSOCIATE(0...   \n",
       "1       Tinh_Tinh_Junior_Graphic_Designer(03-02-2023)   \n",
       "2    nguyen_hoang_Junior_Graphic_Designer(03-02-2023)   \n",
       "3   Ly_Huynh_To_Nhu_Junior_Account_Executive(03-02...   \n",
       "4   Nguyen_Hanh_Phuong_Duy_CUSTOMER_SERVICE_ASSOCI...   \n",
       "..                                                ...   \n",
       "80  Bui_Thi_Ngoc_Anh_CUSTOMER_SERVICE_ASSOCIATE(04...   \n",
       "81      Bui_Eric_Junior_Account_Executive(05-01-2023)   \n",
       "82     Au_Ngan_CUSTOMER_SERVICE_ASSOCIATE(10-01-2023)   \n",
       "83  Au_Le_Phoi__San_CUSTOMER_SERVICE_ASSOCIATE(22-...   \n",
       "84   An_Nguyen_CUSTOMER_SERVICE_ASSOCIATE(09-01-2023)   \n",
       "\n",
       "                                                   cv  \n",
       "0   https://drive.google.com/file/d/16btuq69P-tAFj...  \n",
       "1   https://drive.google.com/file/d/1-I4rk91Di6OR5...  \n",
       "2   https://drive.google.com/file/d/1JnJuOVp8GDFSf...  \n",
       "3   https://drive.google.com/file/d/1lELLKvdNVMNx0...  \n",
       "4   https://drive.google.com/file/d/1-kxRoNV7pOE7Z...  \n",
       "..                                                ...  \n",
       "80  https://drive.google.com/file/d/1bn6Pz4sJ339lR...  \n",
       "81  https://drive.google.com/file/d/1zzaQdAwrt5p1n...  \n",
       "82  https://drive.google.com/file/d/1jcHI-p6xtyVB7...  \n",
       "83  https://drive.google.com/file/d/1_mufsnlpGoV4Z...  \n",
       "84  https://drive.google.com/file/d/1GMwM7h6uA5wId...  \n",
       "\n",
       "[85 rows x 2 columns]"
      ]
     },
     "execution_count": 163,
     "metadata": {},
     "output_type": "execute_result"
    }
   ],
   "source": [
    "cv_df"
   ]
  },
  {
   "cell_type": "code",
   "execution_count": 164,
   "metadata": {},
   "outputs": [
    {
     "data": {
      "text/html": [
       "<div>\n",
       "<style scoped>\n",
       "    .dataframe tbody tr th:only-of-type {\n",
       "        vertical-align: middle;\n",
       "    }\n",
       "\n",
       "    .dataframe tbody tr th {\n",
       "        vertical-align: top;\n",
       "    }\n",
       "\n",
       "    .dataframe thead th {\n",
       "        text-align: right;\n",
       "    }\n",
       "</style>\n",
       "<table border=\"1\" class=\"dataframe\">\n",
       "  <thead>\n",
       "    <tr style=\"text-align: right;\">\n",
       "      <th></th>\n",
       "      <th>id</th>\n",
       "      <th>date</th>\n",
       "      <th>month</th>\n",
       "      <th>year</th>\n",
       "      <th>company</th>\n",
       "      <th>name</th>\n",
       "      <th>mail</th>\n",
       "      <th>phone_number</th>\n",
       "      <th>position</th>\n",
       "    </tr>\n",
       "  </thead>\n",
       "  <tbody>\n",
       "    <tr>\n",
       "      <th>0</th>\n",
       "      <td>36BB3813</td>\n",
       "      <td>03-02-2023</td>\n",
       "      <td>02</td>\n",
       "      <td>2023</td>\n",
       "      <td>Genkin</td>\n",
       "      <td>Nguyễn Hoàng Ngọc</td>\n",
       "      <td>hoangngoc173@gmail.com</td>\n",
       "      <td>0766476677</td>\n",
       "      <td>CUSTOMER SERVICE ASSOCIATE</td>\n",
       "    </tr>\n",
       "    <tr>\n",
       "      <th>1</th>\n",
       "      <td>36BB3813</td>\n",
       "      <td>03-02-2023</td>\n",
       "      <td>02</td>\n",
       "      <td>2023</td>\n",
       "      <td>Genkin</td>\n",
       "      <td>Nguyễn Hoàng Ngọc</td>\n",
       "      <td>hoangngoc173@gmail.com</td>\n",
       "      <td>0766476677</td>\n",
       "      <td>CUSTOMER SERVICE ASSOCIATE</td>\n",
       "    </tr>\n",
       "    <tr>\n",
       "      <th>2</th>\n",
       "      <td>36BB3813</td>\n",
       "      <td>03-02-2023</td>\n",
       "      <td>02</td>\n",
       "      <td>2023</td>\n",
       "      <td>Genkin</td>\n",
       "      <td>Nguyễn Hoàng Ngọc</td>\n",
       "      <td>hoangngoc173@gmail.com</td>\n",
       "      <td>0766476677</td>\n",
       "      <td>CUSTOMER SERVICE ASSOCIATE</td>\n",
       "    </tr>\n",
       "    <tr>\n",
       "      <th>3</th>\n",
       "      <td>36BB3813</td>\n",
       "      <td>03-02-2023</td>\n",
       "      <td>02</td>\n",
       "      <td>2023</td>\n",
       "      <td>Genkin</td>\n",
       "      <td>Nguyễn Hoàng Ngọc</td>\n",
       "      <td>hoangngoc173@gmail.com</td>\n",
       "      <td>0766476677</td>\n",
       "      <td>CUSTOMER SERVICE ASSOCIATE</td>\n",
       "    </tr>\n",
       "  </tbody>\n",
       "</table>\n",
       "</div>"
      ],
      "text/plain": [
       "         id        date month  year company               name  \\\n",
       "0  36BB3813  03-02-2023    02  2023  Genkin  Nguyễn Hoàng Ngọc   \n",
       "1  36BB3813  03-02-2023    02  2023  Genkin  Nguyễn Hoàng Ngọc   \n",
       "2  36BB3813  03-02-2023    02  2023  Genkin  Nguyễn Hoàng Ngọc   \n",
       "3  36BB3813  03-02-2023    02  2023  Genkin  Nguyễn Hoàng Ngọc   \n",
       "\n",
       "                     mail phone_number                    position  \n",
       "0  hoangngoc173@gmail.com   0766476677  CUSTOMER SERVICE ASSOCIATE  \n",
       "1  hoangngoc173@gmail.com   0766476677  CUSTOMER SERVICE ASSOCIATE  \n",
       "2  hoangngoc173@gmail.com   0766476677  CUSTOMER SERVICE ASSOCIATE  \n",
       "3  hoangngoc173@gmail.com   0766476677  CUSTOMER SERVICE ASSOCIATE  "
      ]
     },
     "execution_count": 164,
     "metadata": {},
     "output_type": "execute_result"
    }
   ],
   "source": [
    "df"
   ]
  },
  {
   "cell_type": "code",
   "execution_count": 165,
   "metadata": {},
   "outputs": [
    {
     "name": "stdout",
     "output_type": "stream",
     "text": [
      "4 new data to append\n"
     ]
    }
   ],
   "source": [
    "df['file_name'] = [file_name_dict[i] for i in df['id']]\n",
    "data = pd.merge(df,cv_df,how='left')\n",
    "print(f'{len(data)} new data to append')"
   ]
  },
  {
   "cell_type": "code",
   "execution_count": 166,
   "metadata": {},
   "outputs": [],
   "source": [
    "data['source'] = ['CareerBuilder']*len(data)\n",
    "data['graduated'] = ['']*len(data)\n",
    "data['note'] = ['']*len(data)\n",
    "data['name'] = [str(i).upper() for i in data['name']]\n",
    "data['company'] = [str(i).upper() for i in data['company']]\n",
    "data['position'] = [str(i).upper() for i in data['position']]"
   ]
  },
  {
   "cell_type": "code",
   "execution_count": 167,
   "metadata": {},
   "outputs": [
    {
     "name": "stdout",
     "output_type": "stream",
     "text": [
      "Done\n"
     ]
    }
   ],
   "source": [
    "append_index = \"A\" + str(len(recruitment_data)+2)\n",
    "\n",
    "if len(data) > 0:\n",
    "    wks.set_dataframe(data[['id','company','year','month','date','name','source','position','phone_number','mail','cv','graduated','note']], start=append_index, copy_head=False)\n",
    "print('Done')"
   ]
  }
 ],
 "metadata": {
  "kernelspec": {
   "display_name": "Python 3",
   "language": "python",
   "name": "python3"
  },
  "language_info": {
   "codemirror_mode": {
    "name": "ipython",
    "version": 3
   },
   "file_extension": ".py",
   "mimetype": "text/x-python",
   "name": "python",
   "nbconvert_exporter": "python",
   "pygments_lexer": "ipython3",
   "version": "3.9.12"
  },
  "orig_nbformat": 4,
  "vscode": {
   "interpreter": {
    "hash": "ad2bdc8ecc057115af97d19610ffacc2b4e99fae6737bb82f5d7fb13d2f2c186"
   }
  }
 },
 "nbformat": 4,
 "nbformat_minor": 2
}
