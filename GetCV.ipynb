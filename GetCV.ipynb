{
 "cells": [
  {
   "cell_type": "code",
   "execution_count": null,
   "metadata": {},
   "outputs": [],
   "source": [
    "import time\n",
    "from datetime import datetime\n",
    "import warnings\n",
    "warnings.filterwarnings(\"ignore\")"
   ]
  },
  {
   "cell_type": "code",
   "execution_count": null,
   "metadata": {},
   "outputs": [],
   "source": [
    "while True:\n",
    "    now = datetime.now()\n",
    "    current_time = now.strftime(\"%H\")\n",
    "\n",
    "    if current_time == '12':\n",
    "\n",
    "        topcv_error = False\n",
    "        cb_error = False\n",
    "        glints_error = False\n",
    "\n",
    "        try:\n",
    "            print('_____TopCV_Crawl_____')\n",
    "            %run TopCV_Crawl.ipynb\n",
    "            print('')\n",
    "        except:\n",
    "            print('Đang lỗi đợi 5 phút chạy lại')\n",
    "            continue\n",
    "\n",
    "        try:\n",
    "            print('_____CareerBuilder_Crawl_____')\n",
    "            %run CareerBuilder_Crawl.ipynb\n",
    "            print('')\n",
    "        except:\n",
    "            print('Đang lỗi đợi 5 phút chạy lại')\n",
    "            continue\n",
    "\n",
    "        try:\n",
    "            print('_____Glints_Crawl_____')\n",
    "            %run Glints_Crawl.ipynb\n",
    "            print('')\n",
    "        except:\n",
    "            print('Đang lỗi đợi 5 phút chạy lại')\n",
    "            continue\n",
    "\n",
    "        if topcv_error == True:\n",
    "            time.sleep(300)\n",
    "            %run TopCV_Crawl.ipynb\n",
    "\n",
    "        if cb_error == True:\n",
    "            time.sleep(300)\n",
    "            %run CareerBuilder_Crawl.ipynb\n",
    "\n",
    "        if glints_error == True:\n",
    "            time.sleep(300)\n",
    "            %run Glints_Crawl.ipynb\n",
    "\n",
    "        time.sleep(3600)\n",
    "\n",
    "\n",
    "\n"
   ]
  },
  {
   "cell_type": "code",
   "execution_count": null,
   "metadata": {},
   "outputs": [],
   "source": [
    "import test"
   ]
  }
 ],
 "metadata": {
  "kernelspec": {
   "display_name": "Python 3 (ipykernel)",
   "language": "python",
   "name": "python3"
  },
  "language_info": {
   "codemirror_mode": {
    "name": "ipython",
    "version": 3
   },
   "file_extension": ".py",
   "mimetype": "text/x-python",
   "name": "python",
   "nbconvert_exporter": "python",
   "pygments_lexer": "ipython3",
   "version": "3.9.12"
  },
  "vscode": {
   "interpreter": {
    "hash": "19d1d53a962d236aa061289c2ac16dc8e6d9648c89fe79f459ae9a3493bc67b4"
   }
  }
 },
 "nbformat": 4,
 "nbformat_minor": 2
}
