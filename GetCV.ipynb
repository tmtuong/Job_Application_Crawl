{
 "cells": [
  {
   "cell_type": "code",
   "execution_count": null,
   "metadata": {},
   "outputs": [],
   "source": [
    "#Import các thư viện\n",
    "import time\n",
    "from datetime import datetime\n",
    "import warnings\n",
    "warnings.filterwarnings(\"ignore\")"
   ]
  },
  {
   "cell_type": "code",
   "execution_count": null,
   "metadata": {},
   "outputs": [],
   "source": [
    "while True:\n",
    "    now = datetime.now()\n",
    "    current_time = now.strftime(\"%H\")\n",
    "\n",
    "    #Set thời gian chạy\n",
    "    if current_time == '08':\n",
    "        \n",
    "        #Bộ đếm lỗi\n",
    "        topcv_error = False\n",
    "        cb_error = False\n",
    "        glints_error = False\n",
    "\n",
    "        #Chạy các file\n",
    "        try:\n",
    "            print('_____TopCV_Crawl_____')\n",
    "            %run TopCV_Crawl.ipynb\n",
    "            print('')\n",
    "        except:\n",
    "            print('Đang lỗi đợi 5 phút chạy lại')\n",
    "            continue\n",
    "\n",
    "        try:\n",
    "            print('_____CareerBuilder_Crawl_____')\n",
    "            %run CareerBuilder_Crawl.ipynb\n",
    "            print('')\n",
    "        except:\n",
    "            print('Đang lỗi đợi 5 phút chạy lại')\n",
    "            continue\n",
    "\n",
    "        try:\n",
    "            print('_____Glints_Crawl_____')\n",
    "            %run Glints_Crawl.ipynb\n",
    "            print('')\n",
    "        except:\n",
    "            print('Đang lỗi đợi 5 phút chạy lại')\n",
    "            continue\n",
    "        \n",
    "        #Nếu có lỗi thì chạy lại file bị lỗi\n",
    "        if topcv_error == True:\n",
    "            time.sleep(300)\n",
    "            %run TopCV_Crawl.ipynb\n",
    "\n",
    "        if cb_error == True:\n",
    "            time.sleep(300)\n",
    "            %run CareerBuilder_Crawl.ipynb\n",
    "\n",
    "        if glints_error == True:\n",
    "            time.sleep(300)\n",
    "            %run Glints_Crawl.ipynb\n",
    "\n",
    "        time.sleep(3600)\n",
    "\n",
    "\n",
    "\n"
   ]
  }
 ],
 "metadata": {
  "kernelspec": {
   "display_name": "Python 3 (ipykernel)",
   "language": "python",
   "name": "python3"
  },
  "language_info": {
   "codemirror_mode": {
    "name": "ipython",
    "version": 3
   },
   "file_extension": ".py",
   "mimetype": "text/x-python",
   "name": "python",
   "nbconvert_exporter": "python",
   "pygments_lexer": "ipython3",
   "version": "3.8.5"
  },
  "vscode": {
   "interpreter": {
    "hash": "19d1d53a962d236aa061289c2ac16dc8e6d9648c89fe79f459ae9a3493bc67b4"
   }
  }
 },
 "nbformat": 4,
 "nbformat_minor": 2
}
